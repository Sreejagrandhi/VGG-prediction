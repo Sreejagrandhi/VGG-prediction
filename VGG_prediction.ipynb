{
  "nbformat": 4,
  "nbformat_minor": 0,
  "metadata": {
    "colab": {
      "provenance": []
    },
    "kernelspec": {
      "name": "python3",
      "display_name": "Python 3"
    },
    "language_info": {
      "name": "python"
    }
  },
  "cells": [
    {
      "cell_type": "code",
      "execution_count": null,
      "metadata": {
        "id": "7mlARxbXdQS6"
      },
      "outputs": [],
      "source": [
        "import keras,os\n",
        "from keras.models import Sequential\n",
        "from keras.layers import Dense, Conv2D, MaxPool2D , Flatten\n",
        "from keras.preprocessing.image import ImageDataGenerator\n",
        "import numpy as np"
      ]
    },
    {
      "cell_type": "code",
      "source": [
        "from keras.preprocessing.image import load_img\n",
        "from keras.preprocessing.image import img_to_array\n",
        "from keras.applications.vgg16 import preprocess_input\n",
        "from keras.applications.vgg16 import decode_predictions\n",
        "from keras.applications.vgg16 import VGG16\n",
        "# load the model\n",
        "model = VGG16()\n",
        "# load an image from file\n",
        "\n",
        "img_path = '/content/cat1.jpg'\n",
        "image = load_img(img_path, target_size=(224, 224))\n",
        "\n",
        "# convert the image pixels to a numpy array\n",
        "image = img_to_array(image)\n",
        "# reshape data for the model\n",
        "image = image.reshape((1, image.shape[0], image.shape[1], image.shape[2]))\n",
        "# prepare the image for the VGG model\n",
        "image = preprocess_input(image)\n",
        "\n",
        "# predict the probability across all output classes\n",
        "yhat = model.predict(image)    o class labels\n",
        "label = decode_predictions(yhat)\n",
        "\n",
        "# retrieve the most likely result, e.g. highest probability\n",
        "label = label[0][0]\n",
        "# print the classification\n",
        "print('%s (%.2f%%)' % (label[1], label[2]*100))"
      ],
      "metadata": {
        "colab": {
          "base_uri": "https://localhost:8080/"
        },
        "id": "WwPoOJqziIQm",
        "outputId": "d9fef08c-45ab-4431-82a4-398c062ce5cb"
      },
      "execution_count": null,
      "outputs": [
        {
          "output_type": "stream",
          "name": "stdout",
          "text": [
            "Downloading data from https://storage.googleapis.com/tensorflow/keras-applications/vgg16/vgg16_weights_tf_dim_ordering_tf_kernels.h5\n",
            "553467096/553467096 [==============================] - 5s 0us/step\n",
            "1/1 [==============================] - 1s 880ms/step\n",
            "Downloading data from https://storage.googleapis.com/download.tensorflow.org/data/imagenet_class_index.json\n",
            "35363/35363 [==============================] - 0s 0us/step\n",
            "Egyptian_cat (93.39%)\n"
          ]
        }
      ]
    },
    {
      "cell_type": "code",
      "source": [
        "#Pre-trained model as a feature extractor\n",
        "from keras.applications.vgg16 import VGG16\n",
        "from keras.models import Model\n",
        "base_model = VGG16(weights='imagenet', input_shape = (224,224,3))\n",
        "# define model from base model for feature extraction from fc1 layer\n",
        "model = Model(inputs= base_model.input, outputs= base_model.get_layer('fc1').output)\n",
        "#model.summary()\n",
        "\n",
        "img_path = '/content/cat1.jpg'\n",
        "image = load_img(img_path, target_size=(224, 224))\n",
        "# convert the image pixels to a numpy array\n",
        "image = img_to_array(image)\n",
        "\n",
        "# reshape data for the model\n",
        "image = image.reshape(1, image.shape[0], image.shape[1], image.shape[2])\n",
        "# prepare the image for the VGG model\n",
        "image = preprocess_input(image)\n",
        "\n",
        "# obtain the output of fc1 layer\n",
        "fc1_features = model.predict(image)\n",
        "print(\"Feature vector dimensions: \",fc1_features.shape)"
      ],
      "metadata": {
        "colab": {
          "base_uri": "https://localhost:8080/"
        },
        "id": "laZxkejPjVHa",
        "outputId": "03436afb-3fb1-4fdf-e178-8f5f4d6f68df"
      },
      "execution_count": null,
      "outputs": [
        {
          "output_type": "stream",
          "name": "stdout",
          "text": [
            "1/1 [==============================] - 1s 801ms/step\n",
            "Feature vector dimensions:  (1, 4096)\n"
          ]
        }
      ]
    },
    {
      "cell_type": "code",
      "source": [
        "#Pre-trained model as a feature extractor\n",
        "from keras.applications.vgg16 import VGG16\n",
        "from keras.models import Model\n",
        "base_model = VGG16(weights='imagenet', input_shape = (224,224,3))\n",
        "# define model from base model for feature extraction from fc1 layer\n",
        "model = Model(inputs= base_model.input, outputs= base_model.get_layer('fc2').output)\n",
        "#model.summary()\n",
        "\n",
        "img_path = '/content/cat1.jpg'\n",
        "image = load_img(img_path, target_size=(224, 224))\n",
        "# convert the image pixels to a numpy array\n",
        "image = img_to_array(image)\n",
        "\n",
        "# reshape data for the model\n",
        "image = image.reshape(1, image.shape[0], image.shape[1], image.shape[2])\n",
        "# prepare the image for the VGG model\n",
        "image = preprocess_input(image)\n",
        "\n",
        "# obtain the output of fc1 layer\n",
        "fc2_features = model.predict(image)\n",
        "print(\"Feature vector dimensions: \",fc2_features.shape)"
      ],
      "metadata": {
        "colab": {
          "base_uri": "https://localhost:8080/"
        },
        "id": "z6FNXGsYkHPh",
        "outputId": "977fa48b-2d3b-49ce-a3d5-5681b7420f7c"
      },
      "execution_count": null,
      "outputs": [
        {
          "output_type": "stream",
          "name": "stdout",
          "text": [
            "1/1 [==============================] - 1s 652ms/step\n",
            "Feature vector dimensions:  (1, 4096)\n"
          ]
        }
      ]
    },
    {
      "cell_type": "code",
      "source": [],
      "metadata": {
        "id": "EFBU-QJwjnkB"
      },
      "execution_count": null,
      "outputs": []
    }
  ]
}